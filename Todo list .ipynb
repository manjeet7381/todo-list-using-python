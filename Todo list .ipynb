{
 "cells": [
  {
   "cell_type": "code",
   "execution_count": 2,
   "id": "f0082089",
   "metadata": {},
   "outputs": [
    {
     "name": "stdout",
     "output_type": "stream",
     "text": [
      "Collecting tkNote: you may need to restart the kernel to use updated packages.\n",
      "\n",
      "  Using cached tk-0.1.0-py3-none-any.whl (3.9 kB)\n",
      "Installing collected packages: tk\n",
      "Successfully installed tk-0.1.0\n"
     ]
    }
   ],
   "source": [
    "pip install tk"
   ]
  },
  {
   "cell_type": "code",
   "execution_count": 6,
   "id": "2481c296",
   "metadata": {},
   "outputs": [
    {
     "name": "stdout",
     "output_type": "stream",
     "text": [
      "Collecting pickle-mixin\n",
      "  Downloading pickle-mixin-1.0.2.tar.gz (5.1 kB)\n",
      "  Preparing metadata (setup.py): started\n",
      "  Preparing metadata (setup.py): finished with status 'done'\n",
      "Building wheels for collected packages: pickle-mixin\n",
      "  Building wheel for pickle-mixin (setup.py): started\n",
      "  Building wheel for pickle-mixin (setup.py): finished with status 'done'\n",
      "  Created wheel for pickle-mixin: filename=pickle_mixin-1.0.2-py3-none-any.whl size=6017 sha256=7e446da1350bf93787e5e30d5b7a280afbbf2a7aec785f352c349c8e699cd46f\n",
      "  Stored in directory: c:\\users\\hp\\appdata\\local\\pip\\cache\\wheels\\d0\\9c\\0d\\8709be17c02b72bf04ea60d8ec64fc46a1554c0fb81e048dd6\n",
      "Successfully built pickle-mixin\n",
      "Installing collected packages: pickle-mixin\n",
      "Successfully installed pickle-mixin-1.0.2\n",
      "Note: you may need to restart the kernel to use updated packages.\n"
     ]
    }
   ],
   "source": [
    "pip install pickle-mixin"
   ]
  },
  {
   "cell_type": "code",
   "execution_count": null,
   "id": "5943b573",
   "metadata": {},
   "outputs": [],
   "source": [
    "import tkinter\n",
    "import tkinter.messagebox\n",
    "import pickle\n",
    "\n",
    "root = tkinter.Tk()\n",
    "root.title(\"To-Do List\")\n",
    "\n",
    "def add_task():\n",
    "    task = entry_task.get()\n",
    "    if task != \"\":\n",
    "        listbox_tasks.insert(tkinter.END, task)\n",
    "        entry_task.delete(0, tkinter.END)\n",
    "    else:\n",
    "        tkinter.messagebox.showwarning(title=\"Warning!\", message=\"You must enter a task.\")\n",
    "\n",
    "def delete_task():\n",
    "    try:\n",
    "        task_index = listbox_tasks.curselection()[0]\n",
    "        listbox_tasks.delete(task_index)\n",
    "    except:\n",
    "        tkinter.messagebox.showwarning(title=\"Warning!\", message=\"You must select a task.\")\n",
    "\n",
    "def load_tasks():\n",
    "    try:\n",
    "        tasks = pickle.load(open(\"tasks.dat\", \"rb\"))\n",
    "        listbox_tasks.delete(0, tkinter.END)\n",
    "        for task in tasks:\n",
    "            listbox_tasks.insert(tkinter.END, task)\n",
    "    except:\n",
    "        tkinter.messagebox.showwarning(title=\"Warning!\", message=\"Cannot find tasks.dat.\")\n",
    "\n",
    "def save_tasks():\n",
    "    tasks = listbox_tasks.get(0, listbox_tasks.size())\n",
    "    pickle.dump(tasks, open(\"tasks.dat\", \"wb\"))\n",
    "\n",
    "# Create GUI\n",
    "frame_tasks = tkinter.Frame(root)\n",
    "frame_tasks.pack()\n",
    "\n",
    "listbox_tasks = tkinter.Listbox(frame_tasks, height=10, width=50)\n",
    "listbox_tasks.pack(side=tkinter.LEFT)\n",
    "\n",
    "scrollbar_tasks = tkinter.Scrollbar(frame_tasks)\n",
    "scrollbar_tasks.pack(side=tkinter.RIGHT, fill=tkinter.Y)\n",
    "\n",
    "listbox_tasks.config(yscrollcommand=scrollbar_tasks.set)\n",
    "scrollbar_tasks.config(command=listbox_tasks.yview)\n",
    "\n",
    "entry_task = tkinter.Entry(root, width=50)\n",
    "entry_task.pack()\n",
    "\n",
    "button_add_task = tkinter.Button(root, text=\"Add task\", width=48, command=add_task)\n",
    "button_add_task.pack()\n",
    "\n",
    "button_delete_task = tkinter.Button(root, text=\"Delete task\", width=48, command=delete_task)\n",
    "button_delete_task.pack()\n",
    "\n",
    "button_load_tasks = tkinter.Button(root, text=\"Load tasks\", width=48, command=load_tasks)\n",
    "button_load_tasks.pack()\n",
    "\n",
    "button_save_tasks = tkinter.Button(root, text=\"Save tasks\", width=48, command=save_tasks)\n",
    "button_save_tasks.pack()\n",
    "\n",
    "root.mainloop()"
   ]
  },
  {
   "cell_type": "code",
   "execution_count": null,
   "id": "76dadbef",
   "metadata": {},
   "outputs": [],
   "source": []
  }
 ],
 "metadata": {
  "kernelspec": {
   "display_name": "Python 3 (ipykernel)",
   "language": "python",
   "name": "python3"
  },
  "language_info": {
   "codemirror_mode": {
    "name": "ipython",
    "version": 3
   },
   "file_extension": ".py",
   "mimetype": "text/x-python",
   "name": "python",
   "nbconvert_exporter": "python",
   "pygments_lexer": "ipython3",
   "version": "3.11.4"
  }
 },
 "nbformat": 4,
 "nbformat_minor": 5
}
